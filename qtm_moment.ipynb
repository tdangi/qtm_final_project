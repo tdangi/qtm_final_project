{
 "cells": [
  {
   "cell_type": "markdown",
   "metadata": {},
   "source": [
    "# QTM 151 Final Project\n",
    "## Project Members: Tammy Dang, Bao Truong, Jocelyn Nguyen, Chau Anh Nguyen\n",
    "\n",
    "### Data Description\n",
    "\n",
    "The question we are examining with our dataset is:\n",
    "\n",
    "\n",
    "*   **How does the frequency of pit stops correlate with the success rate of driver victories in Formula 1 racing?**\n",
    "\n",
    "In order to examine this, we will be parsing and analyzing these datasets:\n",
    "\n",
    "1.   pit_stops.csv\n",
    "2.   driver_standings.csv\n",
    "\n",
    "Each row represents a driver within an F1 race. This will be distinct based on raceID and driverId.\n",
    "\n",
    "# Import libraries "
   ]
  },
  {
   "cell_type": "code",
   "execution_count": 2,
   "metadata": {},
   "outputs": [],
   "source": [
    "# \"pandas\" processes datasets\n",
    "# \"maplotlib.pyplot\" generates graphs\n",
    "# datetime packages for time series manipulation\n",
    "\n",
    "import matplotlib.pyplot as plt\n",
    "import pandas as pd\n",
    "import matplotlib.dates as mdates\n",
    "from datetime import date, time, datetime\n",
    "import statsmodels.api as sm\n",
    "import statsmodels.formula.api as smf\n",
    "import re"
   ]
  },
  {
   "cell_type": "markdown",
   "metadata": {},
   "source": [
    "# Import dataset\n",
    "For our analysis we will be utilizing three datasets for F1 racing:\n",
    "\n",
    "\n",
    "1.   pit_stops.csv\n",
    "2.   driver_standings.csv\n"
   ]
  },
  {
   "cell_type": "code",
   "execution_count": 3,
   "metadata": {},
   "outputs": [],
   "source": [
    "# Read the CSV file\n",
    "driver_standings = pd.read_csv(\"data_raw/driver_standings.csv\")\n",
    "pit_stops = pd.read_csv(\"data_raw/pit_stops.csv\")\n"
   ]
  },
  {
   "cell_type": "code",
   "execution_count": null,
   "metadata": {},
   "outputs": [],
   "source": [
    "# to see the data\n",
    "display(driver_standings)\n",
    "display(pit_stops)\n",
    "\n",
    "# note: We will group them by raceId and driverId when merging"
   ]
  },
  {
   "cell_type": "markdown",
   "metadata": {},
   "source": [
    "# MERGE\n",
    "The following will be the merging process between driver_standings and pit_stops. They will be merged by grouping by raceId and driverId and inner joining the dataset. We will then use this to clean and create data descriptions to find out the dataset we can use for graphing, etc."
   ]
  },
  {
   "cell_type": "code",
   "execution_count": null,
   "metadata": {},
   "outputs": [],
   "source": [
    "#merge driver_standings and pit_stops by raceId and driverId. Store this in data frame, merged_f1\n",
    "merged_f1 = pd.merge(driver_standings, pit_stops, on =['raceId', 'driverId'], how ='inner')\n",
    "display(merged_f1)"
   ]
  },
  {
   "cell_type": "markdown",
   "metadata": {},
   "source": [
    "# Data Description Diagnostic Commands\n",
    "The following is code to understand the data we have better."
   ]
  },
  {
   "cell_type": "code",
   "execution_count": null,
   "metadata": {},
   "outputs": [],
   "source": [
    "#How many observations do we have in the dataset?\n",
    "n_total = len(merged_f1)\n",
    "\n",
    "#count non-missing observations\n",
    "n_nonmiss_wins = merged_f1[\"wins\"].count()  # there are no NAs.\n",
    "n_nonmiss_stop = merged_f1[\"stop\"].count()  # there are no NAs.\n",
    "n_nonmiss_points = merged_f1[\"points\"].count() # there are no NAs.\n",
    "\n",
    "# get unique values of race and driverId\n",
    "list_ids_race = pd.unique(merged_f1[\"raceId\"])\n",
    "list_ids_driver = pd.unique(merged_f1[\"driverId\"])\n",
    "\n",
    "# NOTE: please group by race and driverId. As there are different races within this dataset with a participation of d"
   ]
  },
  {
   "cell_type": "markdown",
   "metadata": {},
   "source": [
    "# Data Cleaning"
   ]
  },
  {
   "cell_type": "code",
   "execution_count": null,
   "metadata": {},
   "outputs": [],
   "source": [
    "# Use regular expression to clean \"duration\"\n",
    "time_format = re.compile(r'^([0-5]?\\d):([0-5]?\\d)\\.(\\d{1,3})$') # regex of values like \"16:44.718\"\n",
    "dropping_list = [] # create array of rows with the said regex\n",
    "\n",
    "for index, row in merged_f1.iterrows(): #create for loop to iterate through merged_f1's rows\n",
    "    if time_format.match(row['duration']):\n",
    "        dropping_list.append(index)\n",
    "\n",
    "merged_f1.drop(dropping_list, inplace=True)\n",
    "\n",
    "# I realized that I don't actually need to do this because miliseconds is the cleaned version of duration\n",
    "# But i'll keep it here so let me have my glory T.T. This took me 2 hours to figure out\n"
   ]
  },
  {
   "cell_type": "code",
   "execution_count": null,
   "metadata": {},
   "outputs": [],
   "source": [
    "# Aggregate by raceId and driverId, looking at total stops, pit time, and wins of each driverId\n",
    "agg_table = merged_f1.groupby([\"raceId\", \"driverId\"]).agg(total_stops = (\"stop\", \"sum\"),\n",
    "                                               total_pit_time = (\"milliseconds\", \"sum\"),\n",
    "                                               total_wins = (\"wins\", \"sum\"),\n",
    "                                               total_points = (\"points\", \"sum\"),\n",
    "                                               total_lap = (\"lap\", \"sum\")).reset_index()\n",
    "agg_table"
   ]
  },
  {
   "cell_type": "code",
   "execution_count": null,
   "metadata": {},
   "outputs": [],
   "source": [
    "# Create subplots to assess the relationship between, Total Pit Time, Total Stops, Total Wins\n",
    "fig, list_subfig = plt.subplots(1, 3, figsize = (11,3))\n",
    "\n",
    "list_subfig[0].scatter(agg_table[\"total_pit_time\"], agg_table[\"total_stops\"])\n",
    "list_subfig[0].set_title(\"Total Pit Time vs. total_stops\")\n",
    "list_subfig[0].set_xlabel(\"Total Pit Time\")\n",
    "list_subfig[0].set_ylabel(\"Total Stops\")\n",
    "\n",
    "list_subfig[1].scatter(agg_table[\"total_pit_time\"], agg_table[\"total_wins\"])\n",
    "list_subfig[1].set_title(\"Total Pit Time vs. Total Wins\")\n",
    "list_subfig[1].set_xlabel(\"Total Pit Time\")\n",
    "list_subfig[1].set_ylabel(\"Total Wins\")\n",
    "\n",
    "list_subfig[2].scatter(agg_table[\"total_stops\"], agg_table[\"total_wins\"])\n",
    "list_subfig[2].set_title(\"Total Stops vs. Total Wins\")\n",
    "list_subfig[2].set_xlabel(\"Total Stops\")\n",
    "list_subfig[2].set_ylabel(\"Total Wins\")"
   ]
  },
  {
   "cell_type": "code",
   "execution_count": null,
   "metadata": {},
   "outputs": [],
   "source": [
    "# Linear Regression 1: Total Pit Time and Total Wins with summary\n",
    "results_pit_time = smf.ols(\"total_wins ~ total_pit_time\", data=agg_table).fit()\n",
    "print(results_pit_time.params)\n",
    "print(results_pit_time.summary())\n",
    "\n",
    "# Linear Regression 2: Total Stops and Total Wins with summary\n",
    "results_stops = smf.ols(\"total_wins ~ total_stops\", data=agg_table).fit()\n",
    "print(results_stops.params)\n",
    "print(results_stops.summary())\n",
    "\n",
    "\n",
    "# Find line of best fit parameters for Regression 1\n",
    "m = results_pit_time.params[\"total_pit_time\"]\n",
    "b = results_pit_time.params[\"Intercept\"]\n",
    "\n",
    "# Find line of best fit parameters for Regression 2\n",
    "m1 = results_stops.params[\"total_stops\"]\n",
    "b1 = results_stops.params[\"Intercept\"]\n",
    "\n",
    "\n",
    "#Subplot of Linear Regression 1 and 2 Visualization\n",
    "fig, list_subfig = plt.subplots(1, 2, figsize = (9,3))\n",
    "\n",
    "list_subfig[0].scatter(agg_table[\"total_pit_time\"], agg_table[\"total_wins\"])\n",
    "list_subfig[0].plot(agg_table[\"total_pit_time\"], m * agg_table[\"total_pit_time\"] + b, color=\"red\")\n",
    "list_subfig[0].set_title(\"Total Stops vs. Total Wins\")\n",
    "list_subfig[0].set_xlabel(\"Total Pit Time\")\n",
    "list_subfig[0].set_ylabel(\"Total Wins\")\n",
    "\n",
    "list_subfig[1].scatter(agg_table[\"total_stops\"], agg_table[\"total_wins\"])\n",
    "list_subfig[1].plot(agg_table[\"total_stops\"], m1 * agg_table[\"total_stops\"] + b1, color=\"red\")\n",
    "list_subfig[1].set_title(\"Linear Regression of Total Stops vs. Total Wins\")\n",
    "list_subfig[1].set_xlabel(\"Total Stops\")\n",
    "list_subfig[1].set_ylabel(\"Total Wins\")"
   ]
  },
  {
   "cell_type": "markdown",
   "metadata": {},
   "source": [
    "# Data Parsing/Analysis"
   ]
  },
  {
   "cell_type": "code",
   "execution_count": null,
   "metadata": {},
   "outputs": [],
   "source": []
  },
  {
   "cell_type": "markdown",
   "metadata": {},
   "source": [
    "# Data Findings"
   ]
  },
  {
   "cell_type": "code",
   "execution_count": null,
   "metadata": {},
   "outputs": [],
   "source": []
  },
  {
   "cell_type": "markdown",
   "metadata": {},
   "source": [
    "# RESULTS"
   ]
  },
  {
   "cell_type": "code",
   "execution_count": null,
   "metadata": {},
   "outputs": [],
   "source": []
  },
  {
   "cell_type": "markdown",
   "metadata": {},
   "source": [
    "# DISCUSSION\n",
    "\n",
    "Tammy: By taking the csv datasets, driver_standings and pit_stops, we merged them by grouping driverId and raceId and stored them into variable merged_f1. Using this merged dataset, we created some data description diagnostic commands to be used for reference when parsing and cleaning the dataset."
   ]
  }
 ],
 "metadata": {
  "kernelspec": {
   "display_name": "base",
   "language": "python",
   "name": "python3"
  },
  "language_info": {
   "codemirror_mode": {
    "name": "ipython",
    "version": 3
   },
   "file_extension": ".py",
   "mimetype": "text/x-python",
   "name": "python",
   "nbconvert_exporter": "python",
   "pygments_lexer": "ipython3",
   "version": "3.11.5"
  }
 },
 "nbformat": 4,
 "nbformat_minor": 2
}
